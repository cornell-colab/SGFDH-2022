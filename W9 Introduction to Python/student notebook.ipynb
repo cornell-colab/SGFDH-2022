{
 "cells": [
  {
   "cell_type": "markdown",
   "id": "b614d9c6",
   "metadata": {},
   "source": [
    "# Setting up empty lists for later and loading a file.\n",
    "\n",
    "The \"with\" operator ensures that the file is properly closed, even if an error or exception occurs."
   ]
  },
  {
   "cell_type": "code",
   "execution_count": null,
   "id": "0085f3fa",
   "metadata": {},
   "outputs": [],
   "source": [
    "first_appeared_list = []\n",
    "last_appeared_list  = []\n",
    "duration_between_years_list = []\n",
    "\n",
    "with open(\"Dish.csv\", encoding=\"utf-8\", errors=\"replace\") as file:\n",
    "    lines = file.readlines()\n",
    "\n",
    "print(\"Successfully loaded \" + str(len(lines)) + \" rows of data.\")\n",
    "\n"
   ]
  },
  {
   "cell_type": "code",
   "execution_count": null,
   "id": "efda60cd",
   "metadata": {
    "scrolled": true
   },
   "outputs": [],
   "source": []
  },
  {
   "cell_type": "code",
   "execution_count": null,
   "id": "f7c861df",
   "metadata": {},
   "outputs": [],
   "source": []
  }
 ],
 "metadata": {
  "kernelspec": {
   "display_name": "Python 3 (ipykernel)",
   "language": "python",
   "name": "python3"
  },
  "language_info": {
   "codemirror_mode": {
    "name": "ipython",
    "version": 3
   },
   "file_extension": ".py",
   "mimetype": "text/x-python",
   "name": "python",
   "nbconvert_exporter": "python",
   "pygments_lexer": "ipython3",
   "version": "3.9.12"
  }
 },
 "nbformat": 4,
 "nbformat_minor": 5
}
